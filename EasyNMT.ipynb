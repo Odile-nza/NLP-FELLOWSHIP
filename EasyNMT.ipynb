{
  "nbformat": 4,
  "nbformat_minor": 0,
  "metadata": {
    "colab": {
      "provenance": [],
      "authorship_tag": "ABX9TyNQPQ5AJ1d+wEaXzBWveVxT",
      "include_colab_link": true
    },
    "kernelspec": {
      "name": "python3",
      "display_name": "Python 3"
    },
    "language_info": {
      "name": "python"
    },
    "accelerator": "GPU",
    "gpuClass": "standard"
  },
  "cells": [
    {
      "cell_type": "markdown",
      "metadata": {
        "id": "view-in-github",
        "colab_type": "text"
      },
      "source": [
        "<a href=\"https://colab.research.google.com/github/Odile-nza/NLP-FELLOWSHIP/blob/main/EasyNMT.ipynb\" target=\"_parent\"><img src=\"https://colab.research.google.com/assets/colab-badge.svg\" alt=\"Open In Colab\"/></a>"
      ]
    },
    {
      "cell_type": "code",
      "execution_count": null,
      "metadata": {
        "id": "kp8W24C8kuIK"
      },
      "outputs": [],
      "source": [
        "!pip install -U easynmt"
      ]
    },
    {
      "cell_type": "code",
      "source": [
        "from easynmt import EasyNMT"
      ],
      "metadata": {
        "id": "8d-AMMdgLsv5"
      },
      "execution_count": 2,
      "outputs": []
    },
    {
      "cell_type": "code",
      "source": [
        "model = EasyNMT('opus-mt')"
      ],
      "metadata": {
        "colab": {
          "base_uri": "https://localhost:8080/"
        },
        "id": "5Kj8DlyCMBna",
        "outputId": "3de9437c-317d-42da-f1fc-365510358ebc"
      },
      "execution_count": 3,
      "outputs": [
        {
          "output_type": "stream",
          "name": "stderr",
          "text": [
            "11.9kB [00:00, 3.34MB/s]                   \n"
          ]
        }
      ]
    },
    {
      "cell_type": "code",
      "source": [
        "sentences = [\n",
        "    'Jesus is alive!',\n",
        "    'Hands on projects is our priority',\n",
        "    'I do not have anything',\n",
        "    'It is a rainy day',\n",
        "    \"'It is what it is !': legend Odile once said.\"\n",
        "]"
      ],
      "metadata": {
        "id": "rq2ezvyxMRr_"
      },
      "execution_count": 43,
      "outputs": []
    },
    {
      "cell_type": "code",
      "source": [
        "translations_fr = model.translate(sentences, target_lang = 'fr')\n",
        "translations_rw = model.translate(sentences, target_lang = 'rw')\n",
        "translations_zh = model.translate(sentences, target_lang = 'zh')"
      ],
      "metadata": {
        "id": "ruBb-qVCOQme"
      },
      "execution_count": null,
      "outputs": []
    },
    {
      "cell_type": "code",
      "source": [
        "translations_rw"
      ],
      "metadata": {
        "colab": {
          "base_uri": "https://localhost:8080/"
        },
        "id": "_XSl61-1O0WQ",
        "outputId": "d0bcba6e-3942-4c5b-d487-639e95c58e59"
      },
      "execution_count": 11,
      "outputs": [
        {
          "output_type": "execute_result",
          "data": {
            "text/plain": [
              "['Yesu ni muzima!',\n",
              " 'Ibintu tugomba gushyira mu mwanya wa mbere ni byo dushyira mu mwanya wa mbere',\n",
              " '........',\n",
              " \"Ni umunsi w'imvura\",\n",
              " \"Kandi koko ni ko biri!': Hari umugani w'umuhimbano wavuze ko ari ukuri.\"]"
            ]
          },
          "metadata": {},
          "execution_count": 11
        }
      ]
    },
    {
      "cell_type": "code",
      "source": [
        "import json"
      ],
      "metadata": {
        "id": "VHV9ufxbT0r0"
      },
      "execution_count": 13,
      "outputs": []
    },
    {
      "cell_type": "code",
      "source": [
        "with open('/content/lang.json','r+') as file_lang:\n",
        "  content = file_lang.read()"
      ],
      "metadata": {
        "id": "d8iROlA9T4Hp"
      },
      "execution_count": 18,
      "outputs": []
    },
    {
      "cell_type": "code",
      "source": [
        "languages_json = json.loads(content)"
      ],
      "metadata": {
        "id": "NdNG64uwUP1A"
      },
      "execution_count": 19,
      "outputs": []
    },
    {
      "cell_type": "code",
      "source": [
        "languages_json"
      ],
      "metadata": {
        "id": "rM6woeGhV9zM"
      },
      "execution_count": null,
      "outputs": []
    },
    {
      "cell_type": "code",
      "source": [
        "languages_json[0]['code']"
      ],
      "metadata": {
        "colab": {
          "base_uri": "https://localhost:8080/",
          "height": 35
        },
        "id": "p73u_WBHWM4x",
        "outputId": "7d63b8ee-59f2-478b-c676-3055cb51c070"
      },
      "execution_count": 22,
      "outputs": [
        {
          "output_type": "execute_result",
          "data": {
            "text/plain": [
              "'ab'"
            ],
            "application/vnd.google.colaboratory.intrinsic+json": {
              "type": "string"
            }
          },
          "metadata": {},
          "execution_count": 22
        }
      ]
    },
    {
      "cell_type": "code",
      "source": [
        "for language in languages_json:\n",
        "  print(language['code'])"
      ],
      "metadata": {
        "id": "RCl49ChHWb1S"
      },
      "execution_count": null,
      "outputs": []
    },
    {
      "cell_type": "code",
      "source": [
        "len(languages_json)"
      ],
      "metadata": {
        "colab": {
          "base_uri": "https://localhost:8080/"
        },
        "id": "K3LkEBYZWbyZ",
        "outputId": "22f1fe8c-2370-4435-d2f4-6f7d57f999c9"
      },
      "execution_count": 24,
      "outputs": [
        {
          "output_type": "execute_result",
          "data": {
            "text/plain": [
              "184"
            ]
          },
          "metadata": {},
          "execution_count": 24
        }
      ]
    },
    {
      "cell_type": "code",
      "source": [
        "from urllib.error import HTTPError"
      ],
      "metadata": {
        "id": "iYRCSU8_Z8tP"
      },
      "execution_count": 28,
      "outputs": []
    },
    {
      "cell_type": "code",
      "source": [
        "for language in languages_json:\n",
        "  code = language['code']\n",
        "  try:\n",
        "    model.translate(sentences, target_lang=code)\n",
        "  except:\n",
        "    pass"
      ],
      "metadata": {
        "id": "ejjLtmX7XvR_"
      },
      "execution_count": null,
      "outputs": []
    },
    {
      "cell_type": "code",
      "source": [
        "import pandas as pd"
      ],
      "metadata": {
        "id": "Suxot6YecGa6"
      },
      "execution_count": 31,
      "outputs": []
    },
    {
      "cell_type": "code",
      "source": [
        "df = pd.DataFrame()"
      ],
      "metadata": {
        "id": "xn9kKgMmcN_w"
      },
      "execution_count": 32,
      "outputs": []
    },
    {
      "cell_type": "code",
      "source": [
        "rw_sentences = [\n",
        "    'Umwana murizi ntakurwa urutozi',\n",
        "    'Serupyipyinyurimpyisi yansyonyoye',\n",
        "    'Sakwe!sakwe, sogokuru aryoha aboze',\n",
        "    'Amategeko yabanebwe'\n",
        "]"
      ],
      "metadata": {
        "id": "qCyBqr_acWJn"
      },
      "execution_count": 33,
      "outputs": []
    },
    {
      "cell_type": "code",
      "source": [
        "df['rw'] = rw_sentences"
      ],
      "metadata": {
        "id": "hLLXJ-t0c0Ir"
      },
      "execution_count": 34,
      "outputs": []
    },
    {
      "cell_type": "code",
      "source": [
        "df"
      ],
      "metadata": {
        "colab": {
          "base_uri": "https://localhost:8080/",
          "height": 175
        },
        "id": "BKy2WiNCc6AB",
        "outputId": "eaa9d650-8dba-46f3-df1a-403c8ae6a71c"
      },
      "execution_count": 35,
      "outputs": [
        {
          "output_type": "execute_result",
          "data": {
            "text/plain": [
              "                                   rw\n",
              "0      Umwana murizi ntakurwa urutozi\n",
              "1   Serupyipyinyurimpyisi yansyonyoye\n",
              "2  Sakwe!sakwe, sogokuru aryoha aboze\n",
              "3                 Amategeko yabanebwe"
            ],
            "text/html": [
              "\n",
              "  <div id=\"df-24407946-af09-47db-a657-e13bcc8ffa85\">\n",
              "    <div class=\"colab-df-container\">\n",
              "      <div>\n",
              "<style scoped>\n",
              "    .dataframe tbody tr th:only-of-type {\n",
              "        vertical-align: middle;\n",
              "    }\n",
              "\n",
              "    .dataframe tbody tr th {\n",
              "        vertical-align: top;\n",
              "    }\n",
              "\n",
              "    .dataframe thead th {\n",
              "        text-align: right;\n",
              "    }\n",
              "</style>\n",
              "<table border=\"1\" class=\"dataframe\">\n",
              "  <thead>\n",
              "    <tr style=\"text-align: right;\">\n",
              "      <th></th>\n",
              "      <th>rw</th>\n",
              "    </tr>\n",
              "  </thead>\n",
              "  <tbody>\n",
              "    <tr>\n",
              "      <th>0</th>\n",
              "      <td>Umwana murizi ntakurwa urutozi</td>\n",
              "    </tr>\n",
              "    <tr>\n",
              "      <th>1</th>\n",
              "      <td>Serupyipyinyurimpyisi yansyonyoye</td>\n",
              "    </tr>\n",
              "    <tr>\n",
              "      <th>2</th>\n",
              "      <td>Sakwe!sakwe, sogokuru aryoha aboze</td>\n",
              "    </tr>\n",
              "    <tr>\n",
              "      <th>3</th>\n",
              "      <td>Amategeko yabanebwe</td>\n",
              "    </tr>\n",
              "  </tbody>\n",
              "</table>\n",
              "</div>\n",
              "      <button class=\"colab-df-convert\" onclick=\"convertToInteractive('df-24407946-af09-47db-a657-e13bcc8ffa85')\"\n",
              "              title=\"Convert this dataframe to an interactive table.\"\n",
              "              style=\"display:none;\">\n",
              "        \n",
              "  <svg xmlns=\"http://www.w3.org/2000/svg\" height=\"24px\"viewBox=\"0 0 24 24\"\n",
              "       width=\"24px\">\n",
              "    <path d=\"M0 0h24v24H0V0z\" fill=\"none\"/>\n",
              "    <path d=\"M18.56 5.44l.94 2.06.94-2.06 2.06-.94-2.06-.94-.94-2.06-.94 2.06-2.06.94zm-11 1L8.5 8.5l.94-2.06 2.06-.94-2.06-.94L8.5 2.5l-.94 2.06-2.06.94zm10 10l.94 2.06.94-2.06 2.06-.94-2.06-.94-.94-2.06-.94 2.06-2.06.94z\"/><path d=\"M17.41 7.96l-1.37-1.37c-.4-.4-.92-.59-1.43-.59-.52 0-1.04.2-1.43.59L10.3 9.45l-7.72 7.72c-.78.78-.78 2.05 0 2.83L4 21.41c.39.39.9.59 1.41.59.51 0 1.02-.2 1.41-.59l7.78-7.78 2.81-2.81c.8-.78.8-2.07 0-2.86zM5.41 20L4 18.59l7.72-7.72 1.47 1.35L5.41 20z\"/>\n",
              "  </svg>\n",
              "      </button>\n",
              "      \n",
              "  <style>\n",
              "    .colab-df-container {\n",
              "      display:flex;\n",
              "      flex-wrap:wrap;\n",
              "      gap: 12px;\n",
              "    }\n",
              "\n",
              "    .colab-df-convert {\n",
              "      background-color: #E8F0FE;\n",
              "      border: none;\n",
              "      border-radius: 50%;\n",
              "      cursor: pointer;\n",
              "      display: none;\n",
              "      fill: #1967D2;\n",
              "      height: 32px;\n",
              "      padding: 0 0 0 0;\n",
              "      width: 32px;\n",
              "    }\n",
              "\n",
              "    .colab-df-convert:hover {\n",
              "      background-color: #E2EBFA;\n",
              "      box-shadow: 0px 1px 2px rgba(60, 64, 67, 0.3), 0px 1px 3px 1px rgba(60, 64, 67, 0.15);\n",
              "      fill: #174EA6;\n",
              "    }\n",
              "\n",
              "    [theme=dark] .colab-df-convert {\n",
              "      background-color: #3B4455;\n",
              "      fill: #D2E3FC;\n",
              "    }\n",
              "\n",
              "    [theme=dark] .colab-df-convert:hover {\n",
              "      background-color: #434B5C;\n",
              "      box-shadow: 0px 1px 3px 1px rgba(0, 0, 0, 0.15);\n",
              "      filter: drop-shadow(0px 1px 2px rgba(0, 0, 0, 0.3));\n",
              "      fill: #FFFFFF;\n",
              "    }\n",
              "  </style>\n",
              "\n",
              "      <script>\n",
              "        const buttonEl =\n",
              "          document.querySelector('#df-24407946-af09-47db-a657-e13bcc8ffa85 button.colab-df-convert');\n",
              "        buttonEl.style.display =\n",
              "          google.colab.kernel.accessAllowed ? 'block' : 'none';\n",
              "\n",
              "        async function convertToInteractive(key) {\n",
              "          const element = document.querySelector('#df-24407946-af09-47db-a657-e13bcc8ffa85');\n",
              "          const dataTable =\n",
              "            await google.colab.kernel.invokeFunction('convertToInteractive',\n",
              "                                                     [key], {});\n",
              "          if (!dataTable) return;\n",
              "\n",
              "          const docLinkHtml = 'Like what you see? Visit the ' +\n",
              "            '<a target=\"_blank\" href=https://colab.research.google.com/notebooks/data_table.ipynb>data table notebook</a>'\n",
              "            + ' to learn more about interactive tables.';\n",
              "          element.innerHTML = '';\n",
              "          dataTable['output_type'] = 'display_data';\n",
              "          await google.colab.output.renderOutput(dataTable, element);\n",
              "          const docLink = document.createElement('div');\n",
              "          docLink.innerHTML = docLinkHtml;\n",
              "          element.appendChild(docLink);\n",
              "        }\n",
              "      </script>\n",
              "    </div>\n",
              "  </div>\n",
              "  "
            ]
          },
          "metadata": {},
          "execution_count": 35
        }
      ]
    },
    {
      "cell_type": "code",
      "source": [
        "for language in languages_json[80:100]:\n",
        "  code = language['code']\n",
        "  try:\n",
        "    #create new column with name as language code\n",
        "    df[code] = model.translate(df['english'], source_lang='en', target_lang=code)\n",
        "  except:\n",
        "    pass"
      ],
      "metadata": {
        "colab": {
          "base_uri": "https://localhost:8080/"
        },
        "id": "3xR0DJO5c8QU",
        "outputId": "a4430623-3eb9-45dc-dc00-7695a15d69ce"
      },
      "execution_count": 51,
      "outputs": [
        {
          "output_type": "stream",
          "name": "stderr",
          "text": [
            "/usr/local/lib/python3.7/dist-packages/transformers/generation_utils.py:1364: UserWarning: Neither `max_length` nor `max_new_tokens` has been set, `max_length` will default to 512 (`self.config.max_length`). Controlling `max_length` via the config is deprecated and `max_length` will be removed from the config in v5 of Transformers -- we recommend using `max_new_tokens` to control the maximum length of the generation.\n",
            "  UserWarning,\n"
          ]
        }
      ]
    },
    {
      "cell_type": "code",
      "source": [
        "df['english'] = sentences[0:4]\n",
        "df['kinyarwanda'] = rw_sentences"
      ],
      "metadata": {
        "id": "API-loA5iGLv"
      },
      "execution_count": 53,
      "outputs": []
    },
    {
      "cell_type": "code",
      "source": [
        "df['english']"
      ],
      "metadata": {
        "colab": {
          "base_uri": "https://localhost:8080/"
        },
        "id": "-4G1bpXvlc1k",
        "outputId": "72e88de2-72b2-4dbb-b244-5d858c6ca007"
      },
      "execution_count": 50,
      "outputs": [
        {
          "output_type": "execute_result",
          "data": {
            "text/plain": [
              "0                      Jesus is alive!\n",
              "1    Hands on projects is our priority\n",
              "2               I do not have anything\n",
              "3                    It is a rainy day\n",
              "Name: english, dtype: object"
            ]
          },
          "metadata": {},
          "execution_count": 50
        }
      ]
    },
    {
      "cell_type": "code",
      "source": [
        "df"
      ],
      "metadata": {
        "colab": {
          "base_uri": "https://localhost:8080/",
          "height": 551
        },
        "id": "Ynv7tBcLr17g",
        "outputId": "ff82ae8d-2de5-402d-edaa-3a21a2924d0d"
      },
      "execution_count": 54,
      "outputs": [
        {
          "output_type": "execute_result",
          "data": {
            "text/plain": [
              "                                                  rw  \\\n",
              "0                                    Yesu ni muzima!   \n",
              "1  Ibintu tugomba gushyira mu mwanya wa mbere ni ...   \n",
              "2                                           ........   \n",
              "3                                 Ni umunsi w'imvura   \n",
              "\n",
              "                                                  kg  \\\n",
              "0                              Yezu kele na luzingu!   \n",
              "1  Mbongo ya kisalu kele mambu ya kuluta mfunu yi...   \n",
              "2                      Mono kele ve ata ti kima mosi   \n",
              "3                      Yo kele kilumbu mosi ya mvula   \n",
              "\n",
              "                                                  kj  \\\n",
              "0                        Jesus okwa li e na omwenyo!   \n",
              "1  Ohai tu kwafele tu kale twa pitifa komesho oil...   \n",
              "2                    Ihandi kala ndi na keshe shimwe   \n",
              "3                      Efiku olo ola li efiku leteyo   \n",
              "\n",
              "                                                  lg  \\\n",
              "0                                       Yesu mulamu!   \n",
              "1  Okwenyigira mu mirimu gy'awaka kye kintu kye t...   \n",
              "2                                Sirina kintu kyonna   \n",
              "3                             Olunaku olwo lwa nkuba   \n",
              "\n",
              "                                                  ln  \\\n",
              "0                               Yesu azali na bomoi!   \n",
              "1  Misala ya mabɔkɔ ezali likambo ya liboso oyo t...   \n",
              "2                                 Nazali na eloko te   \n",
              "3                              Ezali mokolo ya mbula   \n",
              "\n",
              "                                                  lu  \\\n",
              "0                                       Yesu i mūmi!   \n",
              "1  Kutangidija bintu bya kutangidija kumeso i kwi...   \n",
              "2                       Nkidipo na kintu nansha kimo   \n",
              "3                            Dino i difuku dya mvula   \n",
              "\n",
              "                                     gv  \\\n",
              "0                   Dooyrt Yeesey r'ee,   \n",
              "1  Mair-chlaa er ny jallooyn bun-chlaa.   \n",
              "2                     Cha nel red erbee   \n",
              "3                   Caghlaader uinnagyn   \n",
              "\n",
              "                                      mk  \\\n",
              "0                            Исус е жив!   \n",
              "1  \"Рацете на проектите ни се приоритет\"   \n",
              "2                           Немам ништо.   \n",
              "3                     Тоа е дождлив ден.   \n",
              "\n",
              "                                                  mg  \\\n",
              "0                                   Velona i Jesosy!   \n",
              "1  Ny tànana amin'ny tetikasa no laharam-pahamehanay   \n",
              "2                   Tsy manana na inona na inona aho   \n",
              "3                                Andro manorana izao   \n",
              "\n",
              "                             english                         kinyarwanda  \n",
              "0                    Jesus is alive!      Umwana murizi ntakurwa urutozi  \n",
              "1  Hands on projects is our priority   Serupyipyinyurimpyisi yansyonyoye  \n",
              "2             I do not have anything  Sakwe!sakwe, sogokuru aryoha aboze  \n",
              "3                  It is a rainy day                 Amategeko yabanebwe  "
            ],
            "text/html": [
              "\n",
              "  <div id=\"df-31fbedc6-cbad-4070-a5c2-5484ceec9bea\">\n",
              "    <div class=\"colab-df-container\">\n",
              "      <div>\n",
              "<style scoped>\n",
              "    .dataframe tbody tr th:only-of-type {\n",
              "        vertical-align: middle;\n",
              "    }\n",
              "\n",
              "    .dataframe tbody tr th {\n",
              "        vertical-align: top;\n",
              "    }\n",
              "\n",
              "    .dataframe thead th {\n",
              "        text-align: right;\n",
              "    }\n",
              "</style>\n",
              "<table border=\"1\" class=\"dataframe\">\n",
              "  <thead>\n",
              "    <tr style=\"text-align: right;\">\n",
              "      <th></th>\n",
              "      <th>rw</th>\n",
              "      <th>kg</th>\n",
              "      <th>kj</th>\n",
              "      <th>lg</th>\n",
              "      <th>ln</th>\n",
              "      <th>lu</th>\n",
              "      <th>gv</th>\n",
              "      <th>mk</th>\n",
              "      <th>mg</th>\n",
              "      <th>english</th>\n",
              "      <th>kinyarwanda</th>\n",
              "    </tr>\n",
              "  </thead>\n",
              "  <tbody>\n",
              "    <tr>\n",
              "      <th>0</th>\n",
              "      <td>Yesu ni muzima!</td>\n",
              "      <td>Yezu kele na luzingu!</td>\n",
              "      <td>Jesus okwa li e na omwenyo!</td>\n",
              "      <td>Yesu mulamu!</td>\n",
              "      <td>Yesu azali na bomoi!</td>\n",
              "      <td>Yesu i mūmi!</td>\n",
              "      <td>Dooyrt Yeesey r'ee,</td>\n",
              "      <td>Исус е жив!</td>\n",
              "      <td>Velona i Jesosy!</td>\n",
              "      <td>Jesus is alive!</td>\n",
              "      <td>Umwana murizi ntakurwa urutozi</td>\n",
              "    </tr>\n",
              "    <tr>\n",
              "      <th>1</th>\n",
              "      <td>Ibintu tugomba gushyira mu mwanya wa mbere ni ...</td>\n",
              "      <td>Mbongo ya kisalu kele mambu ya kuluta mfunu yi...</td>\n",
              "      <td>Ohai tu kwafele tu kale twa pitifa komesho oil...</td>\n",
              "      <td>Okwenyigira mu mirimu gy'awaka kye kintu kye t...</td>\n",
              "      <td>Misala ya mabɔkɔ ezali likambo ya liboso oyo t...</td>\n",
              "      <td>Kutangidija bintu bya kutangidija kumeso i kwi...</td>\n",
              "      <td>Mair-chlaa er ny jallooyn bun-chlaa.</td>\n",
              "      <td>\"Рацете на проектите ни се приоритет\"</td>\n",
              "      <td>Ny tànana amin'ny tetikasa no laharam-pahamehanay</td>\n",
              "      <td>Hands on projects is our priority</td>\n",
              "      <td>Serupyipyinyurimpyisi yansyonyoye</td>\n",
              "    </tr>\n",
              "    <tr>\n",
              "      <th>2</th>\n",
              "      <td>........</td>\n",
              "      <td>Mono kele ve ata ti kima mosi</td>\n",
              "      <td>Ihandi kala ndi na keshe shimwe</td>\n",
              "      <td>Sirina kintu kyonna</td>\n",
              "      <td>Nazali na eloko te</td>\n",
              "      <td>Nkidipo na kintu nansha kimo</td>\n",
              "      <td>Cha nel red erbee</td>\n",
              "      <td>Немам ништо.</td>\n",
              "      <td>Tsy manana na inona na inona aho</td>\n",
              "      <td>I do not have anything</td>\n",
              "      <td>Sakwe!sakwe, sogokuru aryoha aboze</td>\n",
              "    </tr>\n",
              "    <tr>\n",
              "      <th>3</th>\n",
              "      <td>Ni umunsi w'imvura</td>\n",
              "      <td>Yo kele kilumbu mosi ya mvula</td>\n",
              "      <td>Efiku olo ola li efiku leteyo</td>\n",
              "      <td>Olunaku olwo lwa nkuba</td>\n",
              "      <td>Ezali mokolo ya mbula</td>\n",
              "      <td>Dino i difuku dya mvula</td>\n",
              "      <td>Caghlaader uinnagyn</td>\n",
              "      <td>Тоа е дождлив ден.</td>\n",
              "      <td>Andro manorana izao</td>\n",
              "      <td>It is a rainy day</td>\n",
              "      <td>Amategeko yabanebwe</td>\n",
              "    </tr>\n",
              "  </tbody>\n",
              "</table>\n",
              "</div>\n",
              "      <button class=\"colab-df-convert\" onclick=\"convertToInteractive('df-31fbedc6-cbad-4070-a5c2-5484ceec9bea')\"\n",
              "              title=\"Convert this dataframe to an interactive table.\"\n",
              "              style=\"display:none;\">\n",
              "        \n",
              "  <svg xmlns=\"http://www.w3.org/2000/svg\" height=\"24px\"viewBox=\"0 0 24 24\"\n",
              "       width=\"24px\">\n",
              "    <path d=\"M0 0h24v24H0V0z\" fill=\"none\"/>\n",
              "    <path d=\"M18.56 5.44l.94 2.06.94-2.06 2.06-.94-2.06-.94-.94-2.06-.94 2.06-2.06.94zm-11 1L8.5 8.5l.94-2.06 2.06-.94-2.06-.94L8.5 2.5l-.94 2.06-2.06.94zm10 10l.94 2.06.94-2.06 2.06-.94-2.06-.94-.94-2.06-.94 2.06-2.06.94z\"/><path d=\"M17.41 7.96l-1.37-1.37c-.4-.4-.92-.59-1.43-.59-.52 0-1.04.2-1.43.59L10.3 9.45l-7.72 7.72c-.78.78-.78 2.05 0 2.83L4 21.41c.39.39.9.59 1.41.59.51 0 1.02-.2 1.41-.59l7.78-7.78 2.81-2.81c.8-.78.8-2.07 0-2.86zM5.41 20L4 18.59l7.72-7.72 1.47 1.35L5.41 20z\"/>\n",
              "  </svg>\n",
              "      </button>\n",
              "      \n",
              "  <style>\n",
              "    .colab-df-container {\n",
              "      display:flex;\n",
              "      flex-wrap:wrap;\n",
              "      gap: 12px;\n",
              "    }\n",
              "\n",
              "    .colab-df-convert {\n",
              "      background-color: #E8F0FE;\n",
              "      border: none;\n",
              "      border-radius: 50%;\n",
              "      cursor: pointer;\n",
              "      display: none;\n",
              "      fill: #1967D2;\n",
              "      height: 32px;\n",
              "      padding: 0 0 0 0;\n",
              "      width: 32px;\n",
              "    }\n",
              "\n",
              "    .colab-df-convert:hover {\n",
              "      background-color: #E2EBFA;\n",
              "      box-shadow: 0px 1px 2px rgba(60, 64, 67, 0.3), 0px 1px 3px 1px rgba(60, 64, 67, 0.15);\n",
              "      fill: #174EA6;\n",
              "    }\n",
              "\n",
              "    [theme=dark] .colab-df-convert {\n",
              "      background-color: #3B4455;\n",
              "      fill: #D2E3FC;\n",
              "    }\n",
              "\n",
              "    [theme=dark] .colab-df-convert:hover {\n",
              "      background-color: #434B5C;\n",
              "      box-shadow: 0px 1px 3px 1px rgba(0, 0, 0, 0.15);\n",
              "      filter: drop-shadow(0px 1px 2px rgba(0, 0, 0, 0.3));\n",
              "      fill: #FFFFFF;\n",
              "    }\n",
              "  </style>\n",
              "\n",
              "      <script>\n",
              "        const buttonEl =\n",
              "          document.querySelector('#df-31fbedc6-cbad-4070-a5c2-5484ceec9bea button.colab-df-convert');\n",
              "        buttonEl.style.display =\n",
              "          google.colab.kernel.accessAllowed ? 'block' : 'none';\n",
              "\n",
              "        async function convertToInteractive(key) {\n",
              "          const element = document.querySelector('#df-31fbedc6-cbad-4070-a5c2-5484ceec9bea');\n",
              "          const dataTable =\n",
              "            await google.colab.kernel.invokeFunction('convertToInteractive',\n",
              "                                                     [key], {});\n",
              "          if (!dataTable) return;\n",
              "\n",
              "          const docLinkHtml = 'Like what you see? Visit the ' +\n",
              "            '<a target=\"_blank\" href=https://colab.research.google.com/notebooks/data_table.ipynb>data table notebook</a>'\n",
              "            + ' to learn more about interactive tables.';\n",
              "          element.innerHTML = '';\n",
              "          dataTable['output_type'] = 'display_data';\n",
              "          await google.colab.output.renderOutput(dataTable, element);\n",
              "          const docLink = document.createElement('div');\n",
              "          docLink.innerHTML = docLinkHtml;\n",
              "          element.appendChild(docLink);\n",
              "        }\n",
              "      </script>\n",
              "    </div>\n",
              "  </div>\n",
              "  "
            ]
          },
          "metadata": {},
          "execution_count": 54
        }
      ]
    }
  ]
}